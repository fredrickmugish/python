{
 "cells": [
  {
   "cell_type": "code",
   "execution_count": 3,
   "id": "e831e5d2",
   "metadata": {},
   "outputs": [
    {
     "name": "stdout",
     "output_type": "stream",
     "text": [
      "5\n"
     ]
    }
   ],
   "source": [
    "#Python is an object orented programming language\n",
    "#A class is a template for objects and an object is an instance of a class\n",
    "#To create a class use a keyword class, followed by the class name\n",
    "#In order to access the values that are within a class we create the object\n",
    "\n",
    "#Example\n",
    "\n",
    "class MyClass:\n",
    "    x=5\n",
    "\n",
    "obj = MyClass()\n",
    "print(obj.x)"
   ]
  },
  {
   "cell_type": "code",
   "execution_count": 2,
   "id": "2fe89b2e",
   "metadata": {},
   "outputs": [
    {
     "ename": "SyntaxError",
     "evalue": "invalid syntax (2652623513.py, line 3)",
     "output_type": "error",
     "traceback": [
      "\u001b[0;36m  Cell \u001b[0;32mIn[2], line 3\u001b[0;36m\u001b[0m\n\u001b[0;31m    def_init_(self, name, age):\u001b[0m\n\u001b[0m                              ^\u001b[0m\n\u001b[0;31mSyntaxError\u001b[0m\u001b[0;31m:\u001b[0m invalid syntax\n"
     ]
    }
   ],
   "source": [
    "#the _init_() function is used to assign values to object properties\n",
    "class Person:\n",
    "    def_init_(self, name, age):\n",
    "        self.name = name\n",
    "        self.age = age\n",
    "        \n",
    "        #The self parameter is used as a reference to the current instance of a class, its like this.in Java\n",
    "        #The self parameter can be named as you like but it is the first parameter in the _init_() function\n",
    "        obj = Person(\"Fredrick\", 23)\n",
    "        print(obj.name)\n",
    "        print(obj.age)\n",
    "        "
   ]
  },
  {
   "cell_type": "code",
   "execution_count": 1,
   "id": "1a6b4679",
   "metadata": {},
   "outputs": [
    {
     "ename": "SyntaxError",
     "evalue": "invalid syntax (2141720355.py, line 2)",
     "output_type": "error",
     "traceback": [
      "\u001b[0;36m  Cell \u001b[0;32mIn[1], line 2\u001b[0;36m\u001b[0m\n\u001b[0;31m    def_init_(mysillyobject, name, age):\u001b[0m\n\u001b[0m                                       ^\u001b[0m\n\u001b[0;31mSyntaxError\u001b[0m\u001b[0;31m:\u001b[0m invalid syntax\n"
     ]
    }
   ],
   "source": [
    "class Person:\n",
    "    def_init_(mysillyobject, name, age):\n",
    "        mysillyobject.name = name\n",
    "        mysillyobject.age = age\n",
    "    \n",
    "    def myfunc(abc):\n",
    "        print(\"Hello my name is \"+ abc.name + str(abc.age))\n",
    "        \n",
    "        obj = Person(\"Fredrick\", 23)\n",
    "        obj.myfunc()"
   ]
  },
  {
   "cell_type": "code",
   "execution_count": 2,
   "id": "84dc3148",
   "metadata": {},
   "outputs": [
    {
     "ename": "SyntaxError",
     "evalue": "invalid syntax (3619855942.py, line 4)",
     "output_type": "error",
     "traceback": [
      "\u001b[0;36m  Cell \u001b[0;32mIn[2], line 4\u001b[0;36m\u001b[0m\n\u001b[0;31m    def_init_(self, fname, lname):\u001b[0m\n\u001b[0m                                 ^\u001b[0m\n\u001b[0;31mSyntaxError\u001b[0m\u001b[0;31m:\u001b[0m invalid syntax\n"
     ]
    }
   ],
   "source": [
    "#Python inheritance\n",
    "#Inheritance allow us to define a class that inherits all the methods and properties from another class\n",
    "class Person:\n",
    "    def_init_(self, fname, lname):\n",
    "        self.firstname = fname\n",
    "        self.lastname = lname\n",
    "        \n",
    "        def printname(self):\n",
    "            print(self.firstname, self.lastname)\n",
    "            \n",
    "            obj = Person(\"Fredrick\", 23)\n",
    "            obj.printname()"
   ]
  },
  {
   "cell_type": "code",
   "execution_count": 1,
   "id": "cda90c99",
   "metadata": {},
   "outputs": [
    {
     "ename": "NameError",
     "evalue": "name 'Person' is not defined",
     "output_type": "error",
     "traceback": [
      "\u001b[0;31m---------------------------------------------------------------------------\u001b[0m",
      "\u001b[0;31mNameError\u001b[0m                                 Traceback (most recent call last)",
      "Cell \u001b[0;32mIn[1], line 5\u001b[0m\n\u001b[1;32m      1\u001b[0m \u001b[38;5;66;03m#To create a class that inherits the functionality from the parent class, send the parent class as the paremeter\u001b[39;00m\n\u001b[1;32m      2\u001b[0m \u001b[38;5;66;03m#in the child class you are creating\u001b[39;00m\n\u001b[1;32m      3\u001b[0m \u001b[38;5;66;03m#creating a constructor in the child class, the child class will not inherit _init_() function from the parent class\u001b[39;00m\n\u001b[0;32m----> 5\u001b[0m \u001b[38;5;28;01mclass\u001b[39;00m \u001b[38;5;21;01mStudent\u001b[39;00m(Person):\n\u001b[1;32m      6\u001b[0m     \u001b[38;5;28;01mpass\u001b[39;00m\n\u001b[1;32m      7\u001b[0m x  \u001b[38;5;241m=\u001b[39m Student(\u001b[38;5;124m\"\u001b[39m\u001b[38;5;124mFredrick\u001b[39m\u001b[38;5;124m\"\u001b[39m, \u001b[38;5;124m\"\u001b[39m\u001b[38;5;124mMugisha\u001b[39m\u001b[38;5;124m\"\u001b[39m)\n",
      "\u001b[0;31mNameError\u001b[0m: name 'Person' is not defined"
     ]
    }
   ],
   "source": [
    "#To create a class that inherits the functionality from the parent class, send the parent class as the paremeter\n",
    "#in the child class you are creating\n",
    "#creating a constructor in the child class, the child class will not inherit _init_() function from the parent class\n",
    "#\n",
    "\n",
    "class Student(Person):\n",
    "    pass\n",
    "x  = Student(\"Fredrick\", \"Mugisha\")\n",
    "x.printname()"
   ]
  },
  {
   "cell_type": "code",
   "execution_count": 5,
   "id": "11d65091",
   "metadata": {},
   "outputs": [
    {
     "ename": "NameError",
     "evalue": "name 'def_init_' is not defined",
     "output_type": "error",
     "traceback": [
      "\u001b[0;31m---------------------------------------------------------------------------\u001b[0m",
      "\u001b[0;31mNameError\u001b[0m                                 Traceback (most recent call last)",
      "Cell \u001b[0;32mIn[5], line 1\u001b[0m\n\u001b[0;32m----> 1\u001b[0m \u001b[38;5;28;01mclass\u001b[39;00m \u001b[38;5;21;01mPerson\u001b[39;00m:\n\u001b[1;32m      2\u001b[0m     def_init_(\u001b[38;5;28mself\u001b[39m, fname, lname)\n\u001b[1;32m      3\u001b[0m     \u001b[38;5;28;01mpass\u001b[39;00m\n",
      "Cell \u001b[0;32mIn[5], line 2\u001b[0m, in \u001b[0;36mPerson\u001b[0;34m()\u001b[0m\n\u001b[1;32m      1\u001b[0m \u001b[38;5;28;01mclass\u001b[39;00m \u001b[38;5;21;01mPerson\u001b[39;00m:\n\u001b[0;32m----> 2\u001b[0m     def_init_(\u001b[38;5;28mself\u001b[39m, fname, lname)\n\u001b[1;32m      3\u001b[0m     \u001b[38;5;28;01mpass\u001b[39;00m\n",
      "\u001b[0;31mNameError\u001b[0m: name 'def_init_' is not defined"
     ]
    }
   ],
   "source": [
    "class Person:\n",
    "    def_init_(self, fname, lname)\n",
    "    pass\n",
    "class Student(Person):\n",
    "    def_init_(self, fname, lname)\n",
    "    pass\n",
    "class Student(Person):\n",
    "#     def_init_(self, fname, lname)\n",
    "    Person.__init__(fname, lname)"
   ]
  },
  {
   "cell_type": "code",
   "execution_count": null,
   "id": "427b0cac",
   "metadata": {},
   "outputs": [],
   "source": [
    "#File handling in python\n",
    "open(filename, mode) r a w x"
   ]
  },
  {
   "cell_type": "code",
   "execution_count": 2,
   "id": "dd5c15cd",
   "metadata": {},
   "outputs": [],
   "source": [
    "f = open(\"hello.txt\", \"x\")"
   ]
  },
  {
   "cell_type": "code",
   "execution_count": null,
   "id": "959bfadd",
   "metadata": {},
   "outputs": [],
   "source": [
    "f = open(\"hello.txt\", \"a\")"
   ]
  },
  {
   "cell_type": "code",
   "execution_count": 7,
   "id": "485e6dfc",
   "metadata": {},
   "outputs": [
    {
     "data": {
      "text/plain": [
       "19"
      ]
     },
     "execution_count": 7,
     "metadata": {},
     "output_type": "execute_result"
    }
   ],
   "source": [
    "f.write(\"My name is fredrick\")"
   ]
  },
  {
   "cell_type": "code",
   "execution_count": 3,
   "id": "5bb7f5c4",
   "metadata": {},
   "outputs": [
    {
     "ename": "NameError",
     "evalue": "name 'f' is not defined",
     "output_type": "error",
     "traceback": [
      "\u001b[0;31m---------------------------------------------------------------------------\u001b[0m",
      "\u001b[0;31mNameError\u001b[0m                                 Traceback (most recent call last)",
      "Cell \u001b[0;32mIn[3], line 1\u001b[0m\n\u001b[0;32m----> 1\u001b[0m f\u001b[38;5;241m.\u001b[39mclose()\n",
      "\u001b[0;31mNameError\u001b[0m: name 'f' is not defined"
     ]
    }
   ],
   "source": [
    "f.close()"
   ]
  },
  {
   "cell_type": "code",
   "execution_count": 2,
   "id": "d5327914",
   "metadata": {},
   "outputs": [
    {
     "ename": "NameError",
     "evalue": "name 'f' is not defined",
     "output_type": "error",
     "traceback": [
      "\u001b[0;31m---------------------------------------------------------------------------\u001b[0m",
      "\u001b[0;31mNameError\u001b[0m                                 Traceback (most recent call last)",
      "Cell \u001b[0;32mIn[2], line 1\u001b[0m\n\u001b[0;32m----> 1\u001b[0m \u001b[38;5;28mprint\u001b[39m(f\u001b[38;5;241m.\u001b[39mread())\n",
      "\u001b[0;31mNameError\u001b[0m: name 'f' is not defined"
     ]
    }
   ],
   "source": [
    "print(f.read())"
   ]
  },
  {
   "cell_type": "code",
   "execution_count": 4,
   "id": "ce1cdf1e",
   "metadata": {},
   "outputs": [
    {
     "ename": "FileNotFoundError",
     "evalue": "[Errno 2] No such file or directory: 'hello.txt'",
     "output_type": "error",
     "traceback": [
      "\u001b[0;31m---------------------------------------------------------------------------\u001b[0m",
      "\u001b[0;31mFileNotFoundError\u001b[0m                         Traceback (most recent call last)",
      "Cell \u001b[0;32mIn[4], line 2\u001b[0m\n\u001b[1;32m      1\u001b[0m \u001b[38;5;28;01mimport\u001b[39;00m \u001b[38;5;21;01mos\u001b[39;00m\n\u001b[0;32m----> 2\u001b[0m os\u001b[38;5;241m.\u001b[39mremove(\u001b[38;5;124m\"\u001b[39m\u001b[38;5;124mhello.txt\u001b[39m\u001b[38;5;124m\"\u001b[39m)\n",
      "\u001b[0;31mFileNotFoundError\u001b[0m: [Errno 2] No such file or directory: 'hello.txt'"
     ]
    }
   ],
   "source": [
    "import os\n",
    "os.remove(\"hello.txt\")"
   ]
  },
  {
   "cell_type": "code",
   "execution_count": 5,
   "id": "de71513e",
   "metadata": {},
   "outputs": [
    {
     "name": "stdout",
     "output_type": "stream",
     "text": [
      "The file does not exist\n"
     ]
    }
   ],
   "source": [
    "import os\n",
    "if os.path.exists(\"hello.txt\"):\n",
    "    os.remove(\"hello.txt\")\n",
    "else:\n",
    "    print(\"The file does not exist\")"
   ]
  },
  {
   "cell_type": "code",
   "execution_count": null,
   "id": "dad28e34",
   "metadata": {},
   "outputs": [],
   "source": []
  }
 ],
 "metadata": {
  "kernelspec": {
   "display_name": "Python 3 (ipykernel)",
   "language": "python",
   "name": "python3"
  },
  "language_info": {
   "codemirror_mode": {
    "name": "ipython",
    "version": 3
   },
   "file_extension": ".py",
   "mimetype": "text/x-python",
   "name": "python",
   "nbconvert_exporter": "python",
   "pygments_lexer": "ipython3",
   "version": "3.11.5"
  }
 },
 "nbformat": 4,
 "nbformat_minor": 5
}
