{
 "cells": [
  {
   "cell_type": "markdown",
   "metadata": {
    "id": "lMvKgqS2UHYk"
   },
   "source": []
  },
  {
   "cell_type": "markdown",
   "metadata": {
    "id": "Y514_d5bUIgs"
   },
   "source": [
    "**Python Functions**\n",
    "\n",
    "A function is a block of code which only runs when it is called.\n",
    "\n",
    "You can pass data, known as parameters, into a function.\n",
    "\n",
    "A function can return data as a result.\n",
    "\n",
    "**Creating a Function**\n",
    "\n",
    "In Python a function is defined using the def keyword:\n",
    "**Example**\n",
    "\n",
    "```\n",
    "  def my_function():\n",
    "    print(\"Hello from a function\")\n",
    "```"
   ]
  },
  {
   "cell_type": "code",
   "execution_count": null,
   "metadata": {
    "id": "43a5Qh4VUOTV"
   },
   "outputs": [],
   "source": [
    "# ANSWER"
   ]
  },
  {
   "cell_type": "markdown",
   "metadata": {
    "id": "l1xCYJHeUXtH"
   },
   "source": [
    "**Calling a Function**\n",
    "\n",
    "To call a function, use the function name followed by parenthesis:\n",
    "**Example**\n",
    "\n",
    "```\n",
    "  def my_function():\n",
    "    print(\"Hello from a function\")\n",
    "\n",
    "  my_function()\n",
    "```"
   ]
  },
  {
   "cell_type": "code",
   "execution_count": null,
   "metadata": {
    "id": "M3DXtYlXUe0l"
   },
   "outputs": [],
   "source": [
    "# ANSWER"
   ]
  },
  {
   "cell_type": "markdown",
   "metadata": {
    "id": "uH68rrYeUgFL"
   },
   "source": [
    "**Arguments**\n",
    "\n",
    "Information can be passed into functions as arguments.\n",
    "\n",
    "Arguments are specified after the function name, inside the parentheses. You can add as many arguments as you want, just separate them with a comma.\n",
    "\n",
    "The following example has a function with one argument (fname). When the function is called, we pass along a first name, which is used inside the function to print the full name:\n",
    "\n",
    "Arguments are often shortened to args in Python documentations.\n",
    "\n",
    "**Example**\n",
    "\n",
    "```\n",
    "  def my_function(fname):\n",
    "    print(fname + \" Refsnes\")\n",
    "\n",
    "  my_function(\"Emil\")\n",
    "  my_function(\"Tobias\")\n",
    "  my_function(\"Linus\")\n",
    "```"
   ]
  },
  {
   "cell_type": "code",
   "execution_count": null,
   "metadata": {
    "id": "G-_PgBo-U0CL"
   },
   "outputs": [],
   "source": [
    "# ANSWER"
   ]
  },
  {
   "cell_type": "markdown",
   "metadata": {
    "id": "1FzjjkSDUzNl"
   },
   "source": [
    "**Parameters or Arguments?**\n",
    "\n",
    "The terms parameter and argument can be used for the same thing: information that are passed into a function.\n",
    "\n",
    "*From a function's perspective:*\n",
    "\n",
    "A **parameter** is the variable listed inside the parentheses in the function definition.\n",
    "\n",
    "An **argument** is the value that is sent to the function when it is called.\n",
    "Number of Arguments\n",
    "\n",
    "By default, a function must be called with the correct number of arguments. Meaning that if your function expects 2 arguments, you have to call the function with 2 arguments, not more, and not less.\n",
    "\n",
    "**Example**\n",
    "This function expects 2 arguments, and gets 2 arguments:\n",
    "\n",
    "```\n",
    "  def my_function(fname, lname):\n",
    "    print(fname + \" \" + lname)\n",
    "\n",
    "  my_function(\"Emil\", \"Refsnes\")\n",
    "```"
   ]
  },
  {
   "cell_type": "code",
   "execution_count": null,
   "metadata": {
    "id": "WsNRZg-xV2Rx"
   },
   "outputs": [],
   "source": [
    "# ANSWER"
   ]
  },
  {
   "cell_type": "markdown",
   "metadata": {
    "id": "4PQs1x4HYT8U"
   },
   "source": [
    "**Arbitrary Arguments,** *args\n",
    "\n",
    "If you do not know how many arguments that will be passed into your function, add a * before the parameter name in the function definition.\n",
    "\n",
    "This way the function will receive a tuple of arguments, and can access the items accordingly:\n",
    "\n",
    "**Example**\n",
    "\n",
    "If the number of arguments is unknown, add a * before the parameter name:\n",
    "\n",
    "```\n",
    "  def my_function(*kids):\n",
    "    print(\"The youngest child is \" + kids[2])\n",
    "\n",
    "  my_function(\"Emil\", \"Tobias\", \"Linus\")\n",
    "```"
   ]
  },
  {
   "cell_type": "code",
   "execution_count": null,
   "metadata": {
    "id": "JhtBNp5yYUjz"
   },
   "outputs": [],
   "source": [
    "# EXAMPLE"
   ]
  },
  {
   "cell_type": "markdown",
   "metadata": {
    "id": "eiVLKHipV4rz"
   },
   "source": [
    "**Keyword Arguments**\n",
    "\n",
    "You can also send arguments with the key = value syntax.\n",
    "\n",
    "This way the order of the arguments does not matter.\n",
    "\n",
    "**NB:** The phrase **Keyword Arguments** are often shortened to **kwargs** in Python documentations.\n",
    "\n",
    "**Example**\n",
    "\n",
    "```\n",
    "  def my_function(child3, child2, child1):\n",
    "    print(\"The youngest child is \" + child3)\n",
    "\n",
    "  my_function(child1 = \"Emil\", child2 = \"Tobias\", child3 = \"Linus\")\n",
    "```"
   ]
  },
  {
   "cell_type": "code",
   "execution_count": null,
   "metadata": {
    "id": "pg-D1DlBV94P"
   },
   "outputs": [],
   "source": [
    "# ANSWER"
   ]
  },
  {
   "cell_type": "markdown",
   "metadata": {
    "id": "FFy3ndRCVhEl"
   },
   "source": [
    "If you try to call the function with 1 or 3 arguments, you will get an error:\n",
    "**Example**\n",
    "\n",
    "This function expects 2 arguments, but gets only 1:\n",
    "\n",
    "```\n",
    "  def my_function(fname, lname):\n",
    "    print(fname + \" \" + lname)\n",
    "\n",
    "  my_function(\"Emil\")\n",
    "```"
   ]
  },
  {
   "cell_type": "code",
   "execution_count": null,
   "metadata": {
    "id": "qHjMgPrFVbK1"
   },
   "outputs": [],
   "source": [
    "# ANSWER"
   ]
  },
  {
   "cell_type": "markdown",
   "metadata": {
    "id": "QIYzJrl_YoMP"
   },
   "source": [
    "**Arbitrary Keyword Arguments**, **kwargs\n",
    "\n",
    "If you do not know how many keyword arguments that will be passed into your function, add two asterisk: ** before the parameter name in the function definition.\n",
    "\n",
    "This way the function will receive a dictionary of arguments, and can access the items accordingly:\n",
    "\n",
    "**Example**\n",
    "\n",
    "If the number of keyword arguments is unknown, add a double ** before the parameter name:\n",
    "\n",
    "```\n",
    "  def my_function(**kid):\n",
    "    print(\"His last name is \" + kid[\"lname\"])\n",
    "\n",
    "  my_function(fname = \"Tobias\", lname = \"Refsnes\")\n",
    "```\n",
    "\n",
    "Arbitrary Kword Arguments are often shortened to **kwargs in Python documentations.\n"
   ]
  },
  {
   "cell_type": "code",
   "execution_count": null,
   "metadata": {
    "id": "RI1hfZNyYxCI"
   },
   "outputs": [],
   "source": [
    "# EXAMPLE"
   ]
  },
  {
   "cell_type": "markdown",
   "metadata": {
    "id": "VdhIFq9rWKs9"
   },
   "source": [
    "**Default Parameter Value**\n",
    "\n",
    "The following example shows how to use a default parameter value.\n",
    "\n",
    "If we call the function without argument, it uses the default value:\n",
    "\n",
    "**Example**\n",
    "\n",
    "```\n",
    "  def my_function(country = \"Tanzania\"):\n",
    "    print(\"I am from \" + country)\n",
    "\n",
    "  my_function(\"Sweden\")\n",
    "  my_function(\"India\")\n",
    "  my_function()\n",
    "  my_function(\"Brazil\")\n",
    "```"
   ]
  },
  {
   "cell_type": "code",
   "execution_count": null,
   "metadata": {
    "id": "XcqfPxrmWZIL"
   },
   "outputs": [],
   "source": [
    "# ANSWER"
   ]
  },
  {
   "cell_type": "markdown",
   "metadata": {
    "id": "x7ZwKk6lXhdH"
   },
   "source": [
    "**Passing a List as an Argument**\n",
    "\n",
    "You can send any data types of argument to a function (string, number, list, dictionary etc.), and it will be treated as the same data type inside the function.\n",
    "\n",
    "E.g. if you send a List as an argument, it will still be a List when it reaches the function:\n",
    "\n",
    "**Example**\n",
    "\n",
    "```\n",
    "  def my_function(food):\n",
    "    for x in food:\n",
    "      print(x)\n",
    "\n",
    "  fruits = [\"apple\", \"banana\", \"cherry\"]\n",
    "\n",
    "  my_function(fruits)\n",
    "```"
   ]
  },
  {
   "cell_type": "code",
   "execution_count": null,
   "metadata": {
    "id": "oFXhkjASXnR8"
   },
   "outputs": [],
   "source": [
    "# EXAMPLE"
   ]
  },
  {
   "cell_type": "markdown",
   "metadata": {
    "id": "SVQVYHrtWhBU"
   },
   "source": [
    "**Return Values**\n",
    "\n",
    "To let a function return a value, use the return statement:\n",
    "\n",
    "**Example**\n",
    "\n",
    "```\n",
    "  def my_function(x):\n",
    "    return 5 * x\n",
    "\n",
    "  print(my_function(3))\n",
    "  print(my_function(5))\n",
    "  print(my_function(9))\n",
    "```"
   ]
  },
  {
   "cell_type": "code",
   "execution_count": null,
   "metadata": {
    "id": "GBRGC_bpXv4U"
   },
   "outputs": [],
   "source": [
    "# EXAMPLE"
   ]
  },
  {
   "cell_type": "markdown",
   "metadata": {
    "id": "n2PYDmhdXyEI"
   },
   "source": [
    "**The pass Statement**\n",
    "\n",
    "function definitions cannot be empty, but if you for some reason have a function definition with no content, put in the pass statement to avoid getting an error.\n",
    "\n",
    "**Example**\n",
    "\n",
    "```\n",
    "  def myfunction():\n",
    "    pass\n",
    "```"
   ]
  },
  {
   "cell_type": "markdown",
   "metadata": {
    "id": "M_ES8jAGY8Fp"
   },
   "source": [
    "**Recursion**\n",
    "\n",
    "Python also accepts function recursion, which means a defined function can call itself.\n",
    "\n",
    "Recursion is a common mathematical and programming concept. It means that a function calls itself. This has the benefit of meaning that you can loop through data to reach a result.\n",
    "\n",
    "The developer should be very careful with recursion as it can be quite easy to slip into writing a function which never terminates, or one that uses excess amounts of memory or processor power. However, when written correctly recursion can be a very efficient and mathematically-elegant approach to programming.\n",
    "\n",
    "In this example, tri_recursion() is a function that we have defined to call itself (\"recurse\"). We use the k variable as the data, which decrements (-1) every time we recurse. The recursion ends when the condition is not greater than 0 (i.e. when it is 0).\n",
    "\n",
    "To a new developer it can take some time to work out how exactly this works, best way to find out is by testing and modifying it.\n",
    "\n",
    "```\n",
    "  def factorial(n):\n",
    "      if n == 0 or n == 1:\n",
    "          return 1\n",
    "      else:\n",
    "          return n * factorial(n-1)\n",
    "\n",
    "  # Example: Calculate the factorial of 5\n",
    "  num = 5\n",
    "  result = factorial(num)\n",
    "  print(f\"The factorial of {num} is: {result}\")\n",
    "```"
   ]
  },
  {
   "cell_type": "code",
   "execution_count": 1,
   "metadata": {
    "colab": {
     "base_uri": "https://localhost:8080/"
    },
    "id": "NyUY6PFSZrM2",
    "outputId": "848ecc0a-3d18-45d2-e808-2a14d91ee8ce"
   },
   "outputs": [
    {
     "name": "stdout",
     "output_type": "stream",
     "text": [
      "The factorial of 5 is: 120\n"
     ]
    }
   ],
   "source": [
    "# EXAMPLE\n",
    "def factorial(n):\n",
    "    if n == 0 or n == 1:\n",
    "        return 1\n",
    "    else:\n",
    "        return n * factorial(n-1)\n",
    "\n",
    "# Example: Calculate the factorial of 5\n",
    "num = 5\n",
    "result = factorial(num)\n",
    "print(f\"The factorial of {num} is: {result}\")\n"
   ]
  }
 ],
 "metadata": {
  "colab": {
   "provenance": []
  },
  "kernelspec": {
   "display_name": "Python 3 (ipykernel)",
   "language": "python",
   "name": "python3"
  },
  "language_info": {
   "codemirror_mode": {
    "name": "ipython",
    "version": 3
   },
   "file_extension": ".py",
   "mimetype": "text/x-python",
   "name": "python",
   "nbconvert_exporter": "python",
   "pygments_lexer": "ipython3",
   "version": "3.11.5"
  }
 },
 "nbformat": 4,
 "nbformat_minor": 1
}
