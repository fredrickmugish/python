{
 "cells": [
  {
   "cell_type": "markdown",
   "metadata": {
    "id": "AQOx21mWDjRf"
   },
   "source": [
    "**Python Loops**\n",
    "\n",
    "Python has two primitive loop commands:\n",
    "\n",
    "    1. while loops\n",
    "    2. for loops\n"
   ]
  },
  {
   "cell_type": "markdown",
   "metadata": {
    "id": "G91_uECFD2Ex"
   },
   "source": [
    "The while Loop\n",
    "**bold text**\n",
    "With the while loop we can execute a set of statements as long as a condition is true.\n",
    "**Example**\n",
    "\n",
    "Print i as long as i is less than 6:\n",
    "\n",
    "```\n",
    "  i = 1\n",
    "  while i < 6:\n",
    "    print(i)\n",
    "    i += 1\n",
    "```\n",
    "\n"
   ]
  },
  {
   "cell_type": "code",
   "execution_count": null,
   "metadata": {
    "id": "XO_ab6gIDpdj"
   },
   "outputs": [],
   "source": [
    "# Example"
   ]
  },
  {
   "cell_type": "markdown",
   "metadata": {
    "id": "xKDp32ueEM3l"
   },
   "source": [
    "**The break Statement**\n",
    "\n",
    "With the break statement we can stop the loop even if the while condition is true:\n",
    "**Example**\n",
    "\n",
    "Exit the loop when i is 3:\n",
    "\n",
    "```\n",
    "  i = 1\n",
    "  while i < 6:\n",
    "    print(i)\n",
    "    if i == 3:\n",
    "      break\n",
    "    i += 1\n",
    "```"
   ]
  },
  {
   "cell_type": "code",
   "execution_count": 3,
   "metadata": {
    "id": "Bc8diiOMEgue"
   },
   "outputs": [],
   "source": [
    "# Example"
   ]
  },
  {
   "cell_type": "markdown",
   "metadata": {
    "id": "ftjaSqUMEmoU"
   },
   "source": [
    "**The continue Statement**\n",
    "\n",
    "With the continue statement we can stop the current iteration, and continue with the next:\n",
    "**Example**\n",
    "\n",
    "Continue to the next iteration if i is 3:\n",
    "\n",
    "```\n",
    "  i = 0\n",
    "  while i < 6:\n",
    "    i += 1\n",
    "    if i == 3:\n",
    "      continue\n",
    "    print(i)\n",
    "```"
   ]
  },
  {
   "cell_type": "code",
   "execution_count": 5,
   "metadata": {
    "id": "ALe_eaI5EuwC"
   },
   "outputs": [],
   "source": [
    "# Example"
   ]
  },
  {
   "cell_type": "markdown",
   "metadata": {
    "id": "GOGYdFlQGGCo"
   },
   "source": [
    "**The else Statement**\n",
    "\n",
    "With the else statement we can run a block of code once when the condition no longer is true:\n",
    "**Example**\n",
    "\n",
    "Print a message once the condition is false:\n",
    "\n",
    "```\n",
    "  i = 1\n",
    "  while i < 6:\n",
    "    print(i)\n",
    "    i += 1\n",
    "  else:\n",
    "    print(\"i is no longer less than 6\")\n",
    "```"
   ]
  },
  {
   "cell_type": "code",
   "execution_count": 8,
   "metadata": {
    "id": "SYyvKREGGpKG"
   },
   "outputs": [],
   "source": [
    "# Example\n"
   ]
  },
  {
   "cell_type": "markdown",
   "metadata": {
    "id": "7q6YkdkxG8AO"
   },
   "source": [
    "**Test Yourself With Exercises**\n",
    "**Exercise:**\n",
    "\n",
    "Print i as long as i is less than 6.\n",
    "```\n",
    "  i = 1\n",
    "  i < 6\n",
    "    print(i)\n",
    "    i += 1\n",
    "```"
   ]
  },
  {
   "cell_type": "code",
   "execution_count": null,
   "metadata": {
    "id": "wW96SUoIHF8j"
   },
   "outputs": [],
   "source": [
    "# ANSWER"
   ]
  },
  {
   "cell_type": "code",
   "execution_count": null,
   "metadata": {
    "id": "bGWHF6ASPt7Q"
   },
   "outputs": [],
   "source": []
  },
  {
   "cell_type": "markdown",
   "metadata": {
    "id": "3qhWG019Pud4"
   },
   "source": [
    "**Python For Loops**\n",
    "\n",
    "A for loop is used for iterating over a sequence (that is either a list, a tuple, a dictionary, a set, or a string).\n",
    "\n",
    "This is less like the for keyword in other programming languages, and works more like an iterator method as found in other object-orientated programming languages.\n",
    "\n",
    "With the for loop we can execute a set of statements, once for each item in a list, tuple, set etc.\n",
    "\n",
    "The for loop does not require an indexing variable to set beforehand.\n",
    "\n",
    "**Example**\n",
    "\n",
    "Print each fruit in a fruit list:\n",
    "```\n",
    "  fruits = [\"apple\", \"banana\", \"cherry\"]\n",
    "  for x in fruits:\n",
    "    print(x)\n",
    "```"
   ]
  },
  {
   "cell_type": "code",
   "execution_count": 14,
   "metadata": {
    "id": "IQXa11aXP6um"
   },
   "outputs": [],
   "source": [
    "# ANSWER\n"
   ]
  },
  {
   "cell_type": "markdown",
   "metadata": {
    "id": "X1KVNnUcP78U"
   },
   "source": [
    "**Looping Through a String**\n",
    "\n",
    "Even strings are iterable objects, they contain a sequence of characters:\n",
    "**Example**\n",
    "\n",
    "Loop through the letters in the word \"banana\":\n",
    "```\n",
    "  for x in \"banana\":\n",
    "    print(x)\n",
    "```"
   ]
  },
  {
   "cell_type": "code",
   "execution_count": null,
   "metadata": {
    "id": "NtJUcuvzQO4s"
   },
   "outputs": [],
   "source": [
    "# ANSWER"
   ]
  },
  {
   "cell_type": "markdown",
   "metadata": {
    "id": "tkeUmd4WQPfJ"
   },
   "source": [
    "**The break Statement**\n",
    "\n",
    "With the break statement we can stop the loop before it has looped through all the items:\n",
    "**Example**\n",
    "\n",
    "Exit the loop when x is \"banana\":\n",
    "```\n",
    "  fruits = [\"apple\", \"banana\", \"cherry\"]\n",
    "  for x in fruits:\n",
    "    print(x)\n",
    "    if x == \"banana\":\n",
    "      break\n",
    "```"
   ]
  },
  {
   "cell_type": "code",
   "execution_count": null,
   "metadata": {
    "id": "6HPa7zg7QZqP"
   },
   "outputs": [],
   "source": [
    "# ANSWER"
   ]
  },
  {
   "cell_type": "markdown",
   "metadata": {
    "id": "OtMkmtptQU86"
   },
   "source": [
    "**Example**\n",
    "\n",
    "Exit the loop when x is \"banana\", but this time the break comes before the print:\n",
    "```\n",
    "fruits = [\"apple\", \"banana\", \"cherry\"]\n",
    "for x in fruits:\n",
    "  if x == \"banana\":\n",
    "    break\n",
    "  print(x)\n",
    "```"
   ]
  },
  {
   "cell_type": "code",
   "execution_count": null,
   "metadata": {
    "id": "fwWktAPlQ5Yf"
   },
   "outputs": [],
   "source": [
    "# ANSWER"
   ]
  },
  {
   "cell_type": "markdown",
   "metadata": {
    "id": "X1_lnVN9Q7pj"
   },
   "source": [
    "**The continue Statement**\n",
    "\n",
    "With the continue statement we can stop the current iteration of the loop, and continue with the next:\n",
    "**Example**\n",
    "\n",
    "Do not print banana:\n",
    "```\n",
    "fruits = [\"apple\", \"banana\", \"cherry\"]\n",
    "for x in fruits:\n",
    "  if x == \"banana\":\n",
    "    continue\n",
    "  print(x)\n",
    "```"
   ]
  },
  {
   "cell_type": "code",
   "execution_count": null,
   "metadata": {
    "id": "vkZNVmvhRS1L"
   },
   "outputs": [],
   "source": [
    "# ANSWER"
   ]
  },
  {
   "cell_type": "markdown",
   "metadata": {
    "id": "RQxkyLU3RUQ7"
   },
   "source": [
    "**The range() Function**\n",
    "To loop through a set of code a specified number of times, we can use the range() function,\n",
    "\n",
    "The range() function returns a sequence of numbers, starting from 0 by default, and increments by 1 (by default), and ends at a specified number.\n",
    "**Example**\n",
    "\n",
    "Using the range() function:\n",
    "```\n",
    "  for x in range(6):\n",
    "    print(x)\n",
    "```"
   ]
  },
  {
   "cell_type": "code",
   "execution_count": null,
   "metadata": {
    "id": "gx3ZnlgWRfs3"
   },
   "outputs": [],
   "source": [
    "# ANSWER"
   ]
  },
  {
   "cell_type": "markdown",
   "metadata": {
    "id": "zm4PU9lbRkD1"
   },
   "source": [
    "\n",
    "\n",
    "Note that range(6) is not the values of 0 to 6, but the values 0 to 5.\n",
    "\n",
    "The range() function defaults to 0 as a starting value, however it is possible to specify the starting value by adding a parameter: range(2, 6), which means values from 2 to 6 (but not including 6):\n",
    "**Example**\n",
    "\n",
    "Using the start parameter:\n",
    "\n",
    "```\n",
    "  for x in range(2, 6):\n",
    "    print(x)\n",
    "```"
   ]
  },
  {
   "cell_type": "code",
   "execution_count": null,
   "metadata": {
    "id": "sHYUuGp4Rri0"
   },
   "outputs": [],
   "source": [
    "# ANSWER"
   ]
  },
  {
   "cell_type": "markdown",
   "metadata": {
    "id": "Od0RBueoRttN"
   },
   "source": [
    "The range() function defaults to increment the sequence by 1, however it is possible to specify the increment value by adding a third parameter: range(2, 30, 3):\n",
    "**Example**\n",
    "\n",
    "Increment the sequence with 3 (default is 1):\n",
    "\n",
    "```\n",
    "  for x in range(2, 30, 3):\n",
    "    print(x)\n",
    "```"
   ]
  },
  {
   "cell_type": "code",
   "execution_count": null,
   "metadata": {
    "id": "7pJJGVkPR0Xn"
   },
   "outputs": [],
   "source": [
    "# ANSWER"
   ]
  },
  {
   "cell_type": "markdown",
   "metadata": {
    "id": "TTK-47OMR3on"
   },
   "source": [
    "**Else in For Loop**\n",
    "\n",
    "The else keyword in a for loop specifies a block of code to be executed when the loop is finished:\n",
    "**Example**\n",
    "\n",
    "Print all numbers from 0 to 5, and print a message when the loop has ended:\n",
    "```\n",
    "for x in range(6):\n",
    "  print(x)\n",
    "else:\n",
    "  print(\"Finally finished!\")\n",
    "```"
   ]
  },
  {
   "cell_type": "code",
   "execution_count": null,
   "metadata": {
    "id": "r3Yvm052SGZi"
   },
   "outputs": [],
   "source": [
    "# ANSWER"
   ]
  },
  {
   "cell_type": "markdown",
   "metadata": {
    "id": "xw-dr-ZhSRCI"
   },
   "source": [
    "**Note:** The else block will NOT be executed if the loop is stopped by a break statement.\n",
    "\n",
    "**Example**\n",
    "\n",
    "Break the loop when x is 3, and see what happens with the else block:\n",
    "\n",
    "```\n",
    "for x in range(6):\n",
    "  if x == 3: break\n",
    "  print(x)\n",
    "else:\n",
    "  print(\"Finally finished!\")\n",
    "```"
   ]
  },
  {
   "cell_type": "code",
   "execution_count": null,
   "metadata": {
    "id": "vSHZtVPASZi4"
   },
   "outputs": [],
   "source": [
    "# ANSWER"
   ]
  },
  {
   "cell_type": "markdown",
   "metadata": {
    "id": "ZWQnIZPFSg_x"
   },
   "source": [
    "**Nested Loops**\n",
    "\n",
    "A nested loop is a loop inside a loop.\n",
    "\n",
    "The \"inner loop\" will be executed one time for each iteration of the \"outer loop\":\n",
    "**Example**\n",
    "\n",
    "Print each adjective for every fruit:\n",
    "\n",
    "```\n",
    "  adj = [\"red\", \"big\", \"tasty\"]\n",
    "  fruits = [\"apple\", \"banana\", \"cherry\"]\n",
    "\n",
    "  for x in adj:\n",
    "    for y in fruits:\n",
    "      print(x, y)\n",
    "```"
   ]
  },
  {
   "cell_type": "code",
   "execution_count": 18,
   "metadata": {
    "id": "4wFNDZxwSpFH"
   },
   "outputs": [
    {
     "ename": "IndentationError",
     "evalue": "unexpected indent (2070762077.py, line 5)",
     "output_type": "error",
     "traceback": [
      "\u001b[0;36m  Cell \u001b[0;32mIn[18], line 5\u001b[0;36m\u001b[0m\n\u001b[0;31m    for x in adj:\u001b[0m\n\u001b[0m    ^\u001b[0m\n\u001b[0;31mIndentationError\u001b[0m\u001b[0;31m:\u001b[0m unexpected indent\n"
     ]
    }
   ],
   "source": [
    "# ANSWER"
   ]
  },
  {
   "cell_type": "markdown",
   "metadata": {
    "id": "h87a79r9SsNM"
   },
   "source": [
    "**The pass Statement**\n",
    "\n",
    "for loops cannot be empty, but if you for some reason have a for loop with no content, put in the pass statement to avoid getting an error.\n",
    "**Example**\n",
    "\n",
    "```\n",
    "  for x in [0, 1, 2]:\n",
    "    pass\n",
    "```"
   ]
  },
  {
   "cell_type": "code",
   "execution_count": null,
   "metadata": {
    "id": "pSZ4hTwIS1a0"
   },
   "outputs": [],
   "source": [
    "# ANSWER"
   ]
  }
 ],
 "metadata": {
  "colab": {
   "provenance": [],
   "toc_visible": true
  },
  "kernelspec": {
   "display_name": "Python 3 (ipykernel)",
   "language": "python",
   "name": "python3"
  },
  "language_info": {
   "codemirror_mode": {
    "name": "ipython",
    "version": 3
   },
   "file_extension": ".py",
   "mimetype": "text/x-python",
   "name": "python",
   "nbconvert_exporter": "python",
   "pygments_lexer": "ipython3",
   "version": "3.11.5"
  }
 },
 "nbformat": 4,
 "nbformat_minor": 1
}
