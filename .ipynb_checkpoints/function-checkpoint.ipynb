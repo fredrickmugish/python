{
 "cells": [
  {
   "cell_type": "code",
   "execution_count": 6,
   "id": "11fc89be",
   "metadata": {},
   "outputs": [
    {
     "name": "stdout",
     "output_type": "stream",
     "text": [
      "Hello there from a function\n"
     ]
    }
   ],
   "source": [
    "def my_function():\n",
    "    print(\"Hello there from a function\")\n",
    "    \n",
    "my_function()"
   ]
  },
  {
   "cell_type": "code",
   "execution_count": 24,
   "id": "abf49cb2",
   "metadata": {},
   "outputs": [
    {
     "name": "stdout",
     "output_type": "stream",
     "text": [
      "Fredrick   Mugisha\n",
      "Godius   Mugisha\n",
      "Garasian   Mugisha\n"
     ]
    }
   ],
   "source": [
    "def the_function(fname, sname):\n",
    "    print(fname + \"   \" + sname)\n",
    "    \n",
    "the_function(\"Fredrick\", \"Mugisha\")\n",
    "the_function(\"Godius\", \"Mugisha\")\n",
    "the_function(\"Garasian\", \"Mugisha\")\n"
   ]
  },
  {
   "cell_type": "code",
   "execution_count": 27,
   "id": "2671634c",
   "metadata": {},
   "outputs": [
    {
     "name": "stdout",
     "output_type": "stream",
     "text": [
      "Jina la mtoto ni: Fredrick\n"
     ]
    }
   ],
   "source": [
    "def the_unkown(*majina):\n",
    "    print(\"Jina la mtoto ni: \" +majina[0])\n",
    "    \n",
    "the_unkown(\"Fredrick\", \"Mugisha\", \"Gotfried\")    "
   ]
  },
  {
   "cell_type": "code",
   "execution_count": 34,
   "id": "cacb22a6",
   "metadata": {},
   "outputs": [
    {
     "name": "stdout",
     "output_type": "stream",
     "text": [
      "The name of the youngest child is: gotfried\n"
     ]
    }
   ],
   "source": [
    "def key_value(fname, sname, tname):\n",
    "    print(\"The name of the youngest child is: \" +tname)\n",
    "    \n",
    "key_value(fname=\"fredrick\", sname=\"mugisha\", tname=\"gotfried\")\n",
    "    "
   ]
  },
  {
   "cell_type": "code",
   "execution_count": 35,
   "id": "a1494a41",
   "metadata": {},
   "outputs": [
    {
     "name": "stdout",
     "output_type": "stream",
     "text": [
      "The name of the oldest child is: Godius\n"
     ]
    }
   ],
   "source": [
    "def test(fname, sname, tname):\n",
    "    print(\"The name of the oldest child is: \" +fname)\n",
    "    \n",
    "test(\"Godius\", \"Garasian\", \"Happynes\")"
   ]
  },
  {
   "cell_type": "code",
   "execution_count": 41,
   "id": "b57adcc6",
   "metadata": {},
   "outputs": [
    {
     "name": "stdout",
     "output_type": "stream",
     "text": [
      "The name is: fredrick  mugisha  gotfried\n"
     ]
    }
   ],
   "source": [
    "def see(fname, sname, tname):\n",
    "    print(\"The name is: \" +fname +\"  \"+sname+ \"  \"+tname )\n",
    "see(\"fredrick\",\"mugisha\", \"gotfried\")"
   ]
  },
  {
   "cell_type": "code",
   "execution_count": 42,
   "id": "d797de79",
   "metadata": {},
   "outputs": [
    {
     "name": "stdout",
     "output_type": "stream",
     "text": [
      "The youngest child is: meryness\n"
     ]
    }
   ],
   "source": [
    "def with_keyword(**kids):\n",
    "    print(\"The youngest child is: \" +kids[\"tname\"])\n",
    "    \n",
    "with_keyword(fname=\"verediana\", sname=\"doris\", tname=\"meryness\")"
   ]
  },
  {
   "cell_type": "code",
   "execution_count": 45,
   "id": "95bce49a",
   "metadata": {},
   "outputs": [
    {
     "name": "stdout",
     "output_type": "stream",
     "text": [
      "I am from sweden\n",
      "I am from south africa\n",
      "I am from Tanzania\n"
     ]
    }
   ],
   "source": [
    "def my_function(country = \"Tanzania\"):\n",
    "    print(\"I am from \" + country)\n",
    "my_function(\"sweden\")\n",
    "my_function(\"south africa\")\n",
    "my_function()"
   ]
  },
  {
   "cell_type": "code",
   "execution_count": 49,
   "id": "cc9a409d",
   "metadata": {},
   "outputs": [
    {
     "name": "stdout",
     "output_type": "stream",
     "text": [
      "Apple\n",
      "Banana\n",
      "Jerry\n",
      "watermelon\n"
     ]
    }
   ],
   "source": [
    "def my_list(food):\n",
    "    for type in food:\n",
    "        print(type)\n",
    "fruits = [\"Apple\", \"Banana\", \"Jerry\", \"watermelon\"]\n",
    "my_list(fruits)\n",
    "    \n"
   ]
  },
  {
   "cell_type": "code",
   "execution_count": 50,
   "id": "3bae1bae",
   "metadata": {},
   "outputs": [
    {
     "name": "stdout",
     "output_type": "stream",
     "text": [
      "15\n",
      "25\n"
     ]
    }
   ],
   "source": [
    "def my_function(x):\n",
    "    return 5 * x\n",
    "print(my_function(3))\n",
    "print(my_function(5))"
   ]
  },
  {
   "cell_type": "code",
   "execution_count": 59,
   "id": "d5cc1407",
   "metadata": {},
   "outputs": [
    {
     "name": "stdout",
     "output_type": "stream",
     "text": [
      "The factorial of 6: is 720\n"
     ]
    }
   ],
   "source": [
    "def factorial(n):\n",
    "    if n == 0 or n == 1:\n",
    "        return 1\n",
    "    else:\n",
    "        return n * factorial(n-1)\n",
    "#To calculate the factorial of 5\n",
    "num = 5\n",
    "result = factorial(num)\n",
    "print(f\"The factorial of {num}: is {result}\")"
   ]
  },
  {
   "cell_type": "code",
   "execution_count": null,
   "id": "694ef3d5",
   "metadata": {},
   "outputs": [],
   "source": []
  }
 ],
 "metadata": {
  "kernelspec": {
   "display_name": "Python 3 (ipykernel)",
   "language": "python",
   "name": "python3"
  },
  "language_info": {
   "codemirror_mode": {
    "name": "ipython",
    "version": 3
   },
   "file_extension": ".py",
   "mimetype": "text/x-python",
   "name": "python",
   "nbconvert_exporter": "python",
   "pygments_lexer": "ipython3",
   "version": "3.11.5"
  }
 },
 "nbformat": 4,
 "nbformat_minor": 5
}
