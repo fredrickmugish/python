{
 "cells": [
  {
   "cell_type": "code",
   "execution_count": 1,
   "id": "95545a10",
   "metadata": {},
   "outputs": [
    {
     "name": "stdout",
     "output_type": "stream",
     "text": [
      "a is not greater than b\n"
     ]
    }
   ],
   "source": [
    "a=10\n",
    "b=30\n",
    "if not a>b:\n",
    "    print(\"a is not greater than b\")"
   ]
  },
  {
   "cell_type": "code",
   "execution_count": 12,
   "id": "0007143f",
   "metadata": {},
   "outputs": [
    {
     "name": "stdout",
     "output_type": "stream",
     "text": [
      "Above 10\n"
     ]
    }
   ],
   "source": [
    "x=20\n",
    "if x>10:\n",
    "    print(\"Above 10\")\n",
    "    if x>20:\n",
    "        print(\"Also above 20\")\n",
    "else:\n",
    "    print(\"unkown\")"
   ]
  },
  {
   "cell_type": "code",
   "execution_count": 9,
   "id": "6e8f7f64",
   "metadata": {},
   "outputs": [
    {
     "name": "stdout",
     "output_type": "stream",
     "text": [
      "1\n",
      "2\n",
      "3\n",
      "4\n",
      "5\n"
     ]
    }
   ],
   "source": [
    "#python loop\n",
    "i=1\n",
    "while i < 6:\n",
    "    print(i)\n",
    "    i+=1"
   ]
  },
  {
   "cell_type": "code",
   "execution_count": 1,
   "id": "c89cce78",
   "metadata": {},
   "outputs": [
    {
     "name": "stdout",
     "output_type": "stream",
     "text": [
      "1\n",
      "2\n",
      "3\n"
     ]
    }
   ],
   "source": [
    "i = 1\n",
    "while i < 6:\n",
    "    print(i)\n",
    "    if i == 3:\n",
    "        break\n",
    "    i += 1\n"
   ]
  },
  {
   "cell_type": "code",
   "execution_count": 48,
   "id": "0450527d",
   "metadata": {},
   "outputs": [
    {
     "name": "stdout",
     "output_type": "stream",
     "text": [
      "0\n",
      "1\n",
      "2\n",
      "3\n",
      "4\n",
      "5\n"
     ]
    }
   ],
   "source": [
    "#range\n",
    "for x in range(6):\n",
    "    print(x)"
   ]
  },
  {
   "cell_type": "code",
   "execution_count": 26,
   "id": "023290c7",
   "metadata": {},
   "outputs": [
    {
     "name": "stdout",
     "output_type": "stream",
     "text": [
      "2\n",
      "3\n",
      "4\n",
      "5\n"
     ]
    }
   ],
   "source": [
    "for x in range(2, 6):\n",
    "    print(x)"
   ]
  },
  {
   "cell_type": "code",
   "execution_count": null,
   "id": "170a4409",
   "metadata": {},
   "outputs": [
    {
     "name": "stdout",
     "output_type": "stream",
     "text": [
      "hello\n"
     ]
    }
   ],
   "source": [
    "print(\"helo\")"
   ]
  },
  {
   "cell_type": "code",
   "execution_count": 46,
   "id": "b9042352",
   "metadata": {},
   "outputs": [
    {
     "name": "stdout",
     "output_type": "stream",
     "text": [
      "b is greater than a\n"
     ]
    }
   ],
   "source": [
    "a = 20\n",
    "b = 50\n",
    "if a > b: \n",
    "    print(\"a is greater than b\")\n",
    "else: print(\"b is greater than a\")"
   ]
  },
  {
   "cell_type": "code",
   "execution_count": 6,
   "id": "5ec83972",
   "metadata": {},
   "outputs": [
    {
     "name": "stdout",
     "output_type": "stream",
     "text": [
      "Both conditions are true\n"
     ]
    }
   ],
   "source": [
    "a = 40\n",
    "b = 20\n",
    "c = 30\n",
    "if a > b and c < a:\n",
    "    print(\"Both conditions are true\")"
   ]
  },
  {
   "cell_type": "code",
   "execution_count": 7,
   "id": "df83f77e",
   "metadata": {},
   "outputs": [
    {
     "name": "stdout",
     "output_type": "stream",
     "text": [
      "Atleast one of the conditions is true\n"
     ]
    }
   ],
   "source": [
    "a = 40\n",
    "b = 20\n",
    "c = 30\n",
    "if a > b or c > a:\n",
    "    print(\"Atleast one of the conditions is true\")"
   ]
  },
  {
   "cell_type": "code",
   "execution_count": 14,
   "id": "3011f587",
   "metadata": {},
   "outputs": [
    {
     "name": "stdout",
     "output_type": "stream",
     "text": [
      "A is greater than B \n"
     ]
    }
   ],
   "source": [
    "a = 20\n",
    "b = 10\n",
    "if not b > a:\n",
    "    print(\"A is greater than B \")"
   ]
  },
  {
   "cell_type": "code",
   "execution_count": 25,
   "id": "9e0b4782",
   "metadata": {},
   "outputs": [
    {
     "name": "stdout",
     "output_type": "stream",
     "text": [
      "Above 10\n",
      "Above 20 also\n"
     ]
    }
   ],
   "source": [
    "x = 50\n",
    "if x > 10:\n",
    "    print(\"Above 10\")\n",
    "    if x > 20:\n",
    "        print(\"Above 20 also\")\n",
    "    else:\n",
    "        print(\"okay\")"
   ]
  },
  {
   "cell_type": "code",
   "execution_count": 47,
   "id": "997f3885",
   "metadata": {},
   "outputs": [
    {
     "ename": "SyntaxError",
     "evalue": "incomplete input (624868144.py, line 4)",
     "output_type": "error",
     "traceback": [
      "\u001b[0;36m  Cell \u001b[0;32mIn[47], line 4\u001b[0;36m\u001b[0m\n\u001b[0;31m    \u001b[0m\n\u001b[0m    ^\u001b[0m\n\u001b[0;31mSyntaxError\u001b[0m\u001b[0;31m:\u001b[0m incomplete input\n"
     ]
    }
   ],
   "source": [
    "a = 40\n",
    "b = 20\n",
    "if a > 10:\n",
    "    pass"
   ]
  },
  {
   "cell_type": "code",
   "execution_count": 28,
   "id": "bfe99e94",
   "metadata": {},
   "outputs": [],
   "source": [
    "if a > b: print(\"A is greater tham B \")"
   ]
  },
  {
   "cell_type": "code",
   "execution_count": 42,
   "id": "c2f4c277",
   "metadata": {},
   "outputs": [
    {
     "name": "stdout",
     "output_type": "stream",
     "text": [
      "No\n"
     ]
    }
   ],
   "source": [
    "if a > b: \n",
    "    print(\"Yes\") \n",
    "    \n",
    "else: print(\"No\")"
   ]
  },
  {
   "cell_type": "code",
   "execution_count": 46,
   "id": "b037dc66",
   "metadata": {},
   "outputs": [
    {
     "name": "stdout",
     "output_type": "stream",
     "text": [
      "Yes\n"
     ]
    }
   ],
   "source": [
    "a = 40 \n",
    "b = 20 \n",
    "print(\"Yes\") if a > b else print(\"No\")"
   ]
  },
  {
   "cell_type": "code",
   "execution_count": null,
   "id": "24838b8d",
   "metadata": {},
   "outputs": [],
   "source": []
  }
 ],
 "metadata": {
  "kernelspec": {
   "display_name": "Python 3 (ipykernel)",
   "language": "python",
   "name": "python3"
  },
  "language_info": {
   "codemirror_mode": {
    "name": "ipython",
    "version": 3
   },
   "file_extension": ".py",
   "mimetype": "text/x-python",
   "name": "python",
   "nbconvert_exporter": "python",
   "pygments_lexer": "ipython3",
   "version": "3.11.5"
  }
 },
 "nbformat": 4,
 "nbformat_minor": 5
}
